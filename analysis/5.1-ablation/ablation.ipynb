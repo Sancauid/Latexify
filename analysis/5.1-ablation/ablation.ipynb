{
 "cells": [
  {
   "cell_type": "code",
   "execution_count": null,
   "metadata": {},
   "outputs": [],
   "source": [
    "import sys\n",
    "import os\n",
    "\n",
    "sys.path.insert(0, os.path.abspath(os.path.join(os.path.dirname(sys.path[0]), \"..\")))"
   ]
  },
  {
   "cell_type": "code",
   "execution_count": 2,
   "metadata": {},
   "outputs": [],
   "source": [
    "%load_ext autoreload\n",
    "%autoreload 2"
   ]
  },
  {
   "cell_type": "code",
   "execution_count": 3,
   "metadata": {},
   "outputs": [],
   "source": [
    "import torch\n",
    "from torch import nn\n",
    "from copy import deepcopy\n",
    "\n",
    "from src.data_handler import Im2LatexDataHandler\n",
    "from src.data_loader import get_data_loaders\n",
    "from src.train import get_model\n",
    "from src.analysis import MulticlassAccuracy"
   ]
  },
  {
   "cell_type": "code",
   "execution_count": 4,
   "metadata": {},
   "outputs": [],
   "source": [
    "def evaluate(loader, model, tokenizer):\n",
    "    device = torch.device(\"cuda\" if torch.cuda.is_available() else \"cpu\")\n",
    "    model.to(device)\n",
    "    model.eval()\n",
    "    \n",
    "    acc = MulticlassAccuracy(\n",
    "        num_classes=tokenizer.get_vocab_size(),\n",
    "        ignore_index=-1,\n",
    "        average=\"micro\",\n",
    "    ).to(device)\n",
    "    \n",
    "    i = 0\n",
    "    for images, x, y in loader:\n",
    "        images = images.to(device)\n",
    "        x = x.to(device)\n",
    "        y = y.to(device)\n",
    "\n",
    "        logits, _ = model(x, images, y)\n",
    "\n",
    "        # ==== Analysis ====\n",
    "\n",
    "        # accuracy\n",
    "        _, predicted = torch.max(logits, dim=-1)\n",
    "        acc.update(predicted.view(-1), y.view(-1))\n",
    "\n",
    "        if i % 100 == 0:\n",
    "            print(\n",
    "                f\"Analysis: Iter: {i}, \"\n",
    "                f\"Accuracy: {acc.compute():.4f}\"\n",
    "            )\n",
    "\n",
    "        i += 1\n",
    "\n",
    "    print(\n",
    "        f\"Analysis: Accuracy: {acc.compute():.4f}\"\n",
    "    )"
   ]
  },
  {
   "cell_type": "code",
   "execution_count": 5,
   "metadata": {},
   "outputs": [
    {
     "name": "stdout",
     "output_type": "stream",
     "text": [
      "Number of parameters in total: 0.90M\n",
      "  - Encoder: 0.22M\n",
      "  - Decoder: 0.68M\n"
     ]
    },
    {
     "data": {
      "text/plain": [
       "<All keys matched successfully>"
      ]
     },
     "execution_count": 5,
     "metadata": {},
     "output_type": "execute_result"
    }
   ],
   "source": [
    "model, tokenizer = get_model(\n",
    "    \"convnext_custom\",\n",
    "    \"gpt\",\n",
    "    {\"out_channel\": 64},\n",
    "    {\"dropout\": 0.0, \"n_layer\": 12, \"n_head\": 8},\n",
    "    {\"file_path\": \"./data/dataset5/step2/dict_id2word.pkl\"},\n",
    ")\n",
    "model.load_state_dict(\n",
    "    torch.load(\"./models/latexify-convnext_custom-64-gpt.pth\", map_location=\"cpu\")\n",
    ")"
   ]
  },
  {
   "cell_type": "code",
   "execution_count": 6,
   "metadata": {},
   "outputs": [
    {
     "name": "stdout",
     "output_type": "stream",
     "text": [
      "14280 14280\n",
      "14280 14280\n"
     ]
    }
   ],
   "source": [
    "handler = Im2LatexDataHandler(data_dir=\"./data/dataset5\", train_percentage=0)\n",
    "df_combined, y_combined, tuple_len = handler.load_data_and_images()"
   ]
  },
  {
   "cell_type": "code",
   "execution_count": 7,
   "metadata": {},
   "outputs": [],
   "source": [
    "loader = get_data_loaders(\n",
    "    df_combined,\n",
    "    y_combined,\n",
    "    \"test\",\n",
    "    tokenizer,\n",
    "    tuple_len,\n",
    "    batch_size=16,\n",
    ")"
   ]
  },
  {
   "cell_type": "markdown",
   "metadata": {},
   "source": [
    "### Performance of the original model"
   ]
  },
  {
   "cell_type": "code",
   "execution_count": 8,
   "metadata": {},
   "outputs": [
    {
     "name": "stderr",
     "output_type": "stream",
     "text": [
      "/home/hice1/yqiu343/.local/lib/python3.9/site-packages/torch/nn/modules/conv.py:456: UserWarning: Plan failed with a cudnnException: CUDNN_BACKEND_EXECUTION_PLAN_DESCRIPTOR: cudnnFinalize Descriptor Failed cudnn_status: CUDNN_STATUS_NOT_SUPPORTED (Triggered internally at ../aten/src/ATen/native/cudnn/Conv_v8.cpp:919.)\n",
      "  return F.conv2d(input, weight, bias, self.stride,\n"
     ]
    },
    {
     "name": "stdout",
     "output_type": "stream",
     "text": [
      "Analysis: Iter: 0, Accuracy: 0.6582\n",
      "Analysis: Iter: 100, Accuracy: 0.6294\n",
      "Analysis: Iter: 200, Accuracy: 0.6281\n",
      "Analysis: Iter: 300, Accuracy: 0.6286\n",
      "Analysis: Iter: 400, Accuracy: 0.6287\n",
      "Analysis: Iter: 500, Accuracy: 0.6288\n",
      "Analysis: Iter: 600, Accuracy: 0.6292\n",
      "Analysis: Iter: 700, Accuracy: 0.6291\n",
      "Analysis: Iter: 800, Accuracy: 0.6292\n",
      "Analysis: Accuracy: 0.6294\n"
     ]
    }
   ],
   "source": [
    "evaluate(loader, model, tokenizer)"
   ]
  },
  {
   "cell_type": "markdown",
   "metadata": {},
   "source": [
    "### Remove 1 layer from GPT"
   ]
  },
  {
   "cell_type": "code",
   "execution_count": 9,
   "metadata": {},
   "outputs": [],
   "source": [
    "nmodel = deepcopy(model)\n",
    "nmodel.decoder.transformer[\"h\"][11] = nn.Identity()  # type: ignore"
   ]
  },
  {
   "cell_type": "code",
   "execution_count": 10,
   "metadata": {},
   "outputs": [
    {
     "name": "stdout",
     "output_type": "stream",
     "text": [
      "Analysis: Iter: 0, Accuracy: 0.5573\n",
      "Analysis: Iter: 100, Accuracy: 0.5469\n",
      "Analysis: Iter: 200, Accuracy: 0.5480\n",
      "Analysis: Iter: 300, Accuracy: 0.5486\n",
      "Analysis: Iter: 400, Accuracy: 0.5491\n",
      "Analysis: Iter: 500, Accuracy: 0.5490\n",
      "Analysis: Iter: 600, Accuracy: 0.5482\n",
      "Analysis: Iter: 700, Accuracy: 0.5481\n",
      "Analysis: Iter: 800, Accuracy: 0.5478\n",
      "Analysis: Accuracy: 0.5481\n"
     ]
    }
   ],
   "source": [
    "evaluate(loader, nmodel, tokenizer)"
   ]
  },
  {
   "cell_type": "markdown",
   "metadata": {},
   "source": [
    "### Remove 2 layers from GPT"
   ]
  },
  {
   "cell_type": "code",
   "execution_count": 11,
   "metadata": {},
   "outputs": [],
   "source": [
    "nnmodel = deepcopy(nmodel)\n",
    "nnmodel.decoder.transformer[\"h\"][10] = nn.Identity()  # type: ignore"
   ]
  },
  {
   "cell_type": "code",
   "execution_count": 12,
   "metadata": {},
   "outputs": [
    {
     "name": "stdout",
     "output_type": "stream",
     "text": [
      "Analysis: Iter: 0, Accuracy: 0.5201\n",
      "Analysis: Iter: 100, Accuracy: 0.4775\n",
      "Analysis: Iter: 200, Accuracy: 0.4776\n",
      "Analysis: Iter: 300, Accuracy: 0.4773\n",
      "Analysis: Iter: 400, Accuracy: 0.4769\n",
      "Analysis: Iter: 500, Accuracy: 0.4777\n",
      "Analysis: Iter: 600, Accuracy: 0.4775\n",
      "Analysis: Iter: 700, Accuracy: 0.4779\n",
      "Analysis: Iter: 800, Accuracy: 0.4784\n",
      "Analysis: Accuracy: 0.4789\n"
     ]
    }
   ],
   "source": [
    "evaluate(loader, nnmodel, tokenizer)"
   ]
  },
  {
   "cell_type": "markdown",
   "metadata": {},
   "source": [
    "### Remove 1 CNBlock from ConvNeXt"
   ]
  },
  {
   "cell_type": "code",
   "execution_count": 13,
   "metadata": {},
   "outputs": [],
   "source": [
    "nmodel = deepcopy(model)\n",
    "nmodel.encoder.features[1][2] = nn.Identity()"
   ]
  },
  {
   "cell_type": "code",
   "execution_count": 14,
   "metadata": {},
   "outputs": [
    {
     "name": "stdout",
     "output_type": "stream",
     "text": [
      "Analysis: Iter: 0, Accuracy: 0.6343\n",
      "Analysis: Iter: 100, Accuracy: 0.6292\n",
      "Analysis: Iter: 200, Accuracy: 0.6280\n",
      "Analysis: Iter: 300, Accuracy: 0.6276\n",
      "Analysis: Iter: 400, Accuracy: 0.6284\n",
      "Analysis: Iter: 500, Accuracy: 0.6295\n",
      "Analysis: Iter: 600, Accuracy: 0.6298\n",
      "Analysis: Iter: 700, Accuracy: 0.6299\n",
      "Analysis: Iter: 800, Accuracy: 0.6298\n",
      "Analysis: Accuracy: 0.6294\n"
     ]
    }
   ],
   "source": [
    "evaluate(loader, nmodel, tokenizer)"
   ]
  },
  {
   "cell_type": "markdown",
   "metadata": {},
   "source": [
    "### Remove 2 CNBlocks from ConvNeXt"
   ]
  },
  {
   "cell_type": "code",
   "execution_count": 15,
   "metadata": {},
   "outputs": [],
   "source": [
    "nnmodel = deepcopy(nmodel)\n",
    "nnmodel.encoder.features[1][1] = nn.Identity()"
   ]
  },
  {
   "cell_type": "code",
   "execution_count": 16,
   "metadata": {},
   "outputs": [
    {
     "name": "stdout",
     "output_type": "stream",
     "text": [
      "Analysis: Iter: 0, Accuracy: 0.6919\n",
      "Analysis: Iter: 100, Accuracy: 0.6322\n",
      "Analysis: Iter: 200, Accuracy: 0.6312\n",
      "Analysis: Iter: 300, Accuracy: 0.6294\n",
      "Analysis: Iter: 400, Accuracy: 0.6273\n",
      "Analysis: Iter: 500, Accuracy: 0.6270\n",
      "Analysis: Iter: 600, Accuracy: 0.6278\n",
      "Analysis: Iter: 700, Accuracy: 0.6286\n",
      "Analysis: Iter: 800, Accuracy: 0.6292\n",
      "Analysis: Accuracy: 0.6294\n"
     ]
    }
   ],
   "source": [
    "evaluate(loader, nnmodel, tokenizer)"
   ]
  }
 ],
 "metadata": {
  "kernelspec": {
   "display_name": "Python 3",
   "language": "python",
   "name": "python3"
  },
  "language_info": {
   "codemirror_mode": {
    "name": "ipython",
    "version": 3
   },
   "file_extension": ".py",
   "mimetype": "text/x-python",
   "name": "python",
   "nbconvert_exporter": "python",
   "pygments_lexer": "ipython3",
   "version": "3.9.12"
  }
 },
 "nbformat": 4,
 "nbformat_minor": 2
}
