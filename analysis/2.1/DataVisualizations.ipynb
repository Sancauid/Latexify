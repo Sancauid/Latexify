{
  "nbformat": 4,
  "nbformat_minor": 0,
  "metadata": {
    "colab": {
      "provenance": []
    },
    "kernelspec": {
      "name": "python3",
      "display_name": "Python 3"
    },
    "language_info": {
      "name": "python"
    }
  },
  "cells": [
    {
      "cell_type": "code",
      "execution_count": null,
      "metadata": {
        "id": "9xT8JeF50t7T"
      },
      "outputs": [],
      "source": [
        "# Load data\n",
        "%cd data\n",
        "!sh get_data.sh\n",
        "%cd .."
      ]
    },
    {
      "cell_type": "code",
      "source": [
        "%cd content\n",
        "!ls"
      ],
      "metadata": {
        "colab": {
          "base_uri": "https://localhost:8080/"
        },
        "id": "uLnlLalA2LeY",
        "outputId": "b3ab3933-2843-480e-bf76-fdff059863af"
      },
      "execution_count": null,
      "outputs": [
        {
          "output_type": "stream",
          "name": "stdout",
          "text": [
            "/content\n",
            "data  get_data.sh  sample_data\n"
          ]
        }
      ]
    },
    {
      "cell_type": "code",
      "source": [
        "import os\n",
        "import pandas as pd\n",
        "from PIL import Image\n",
        "import numpy as np\n",
        "from collections import Counter\n",
        "import re"
      ],
      "metadata": {
        "id": "_CJV4CHt08D1"
      },
      "execution_count": null,
      "outputs": []
    },
    {
      "cell_type": "code",
      "source": [
        "class Im2LatexDataHandler:\n",
        "    def __init__(self, data_dir=\"./data/dataset5\"):\n",
        "        self.data_dir = data_dir\n",
        "        self.image_dir = os.path.join(data_dir, \"formula_images\")\n",
        "        self.training_dir = os.path.join(data_dir, \"training_56\")\n",
        "        self.input_data_dir = os.path.join(data_dir, \"training_56\")\n",
        "        self.batch_size = 56\n",
        "\n",
        "    def load_data(self, filename):\n",
        "        \"\"\"Load DataFrame from a pickle file.\"\"\"\n",
        "        file_path = os.path.join(self.input_data_dir, filename)\n",
        "        return pd.read_pickle(file_path)\n",
        "\n",
        "    def load_image(self, image_filename):\n",
        "        \"\"\"Load an image file.\"\"\"\n",
        "        image_path = os.path.join(self.image_dir, image_filename)\n",
        "        return Image.open(image_path)\n",
        "\n",
        "    def load_images_in_batches(self, dataframe):\n",
        "        \"\"\"Generator to load images in batches.\"\"\"\n",
        "        batch = {}\n",
        "        for image_filename in dataframe[\"image\"]:\n",
        "            img = self.load_image(image_filename)\n",
        "            batch[image_filename] = img\n",
        "            if len(batch) == self.batch_size:\n",
        "                yield batch\n",
        "                batch = {}\n",
        "        if batch:\n",
        "            yield batch\n",
        "\n",
        "    def load_data_and_images(self):\n",
        "        df_train = self.load_data(\"df_train.pkl\")\n",
        "        df_valid = self.load_data(\"df_valid.pkl\")\n",
        "        df_test = self.load_data(\"df_test.pkl\")\n",
        "\n",
        "        df_train = df_train.drop_duplicates(subset=\"image\", keep=\"first\")\n",
        "        df_test = df_test.drop_duplicates(subset=\"image\", keep=\"first\")\n",
        "        df_valid = df_valid.drop_duplicates(subset=\"image\", keep=\"first\")\n",
        "\n",
        "        df_combined = pd.concat([df_train, df_valid, df_test]).reset_index(drop=True)\n",
        "\n",
        "        df_combined = df_combined.drop_duplicates(subset=\"image\", keep=\"first\")\n",
        "        y_combined = {}\n",
        "        for batch in self.load_images_in_batches(df_combined):\n",
        "            y_combined.update(batch)\n",
        "\n",
        "        if not (df_combined.index == range(df_combined.shape[0])).all():\n",
        "            print(\"Index is not continuous or does not start from 0.\")\n",
        "            df_combined = df_combined.reset_index(drop=True)\n",
        "            print(\"Index after reset:\", df_combined.index)\n",
        "\n",
        "        print(len(df_combined), len(y_combined))\n",
        "\n",
        "        return df_combined, y_combined"
      ],
      "metadata": {
        "id": "ECcT_quA1gAK"
      },
      "execution_count": null,
      "outputs": []
    },
    {
      "cell_type": "code",
      "source": [
        "handler = Im2LatexDataHandler()\n",
        "df_combined, y_combined = handler.load_data_and_images()"
      ],
      "metadata": {
        "colab": {
          "base_uri": "https://localhost:8080/"
        },
        "id": "SprKwCPe1llQ",
        "outputId": "5bc0733c-8bac-4041-a697-0131b47d767d"
      },
      "execution_count": null,
      "outputs": [
        {
          "output_type": "stream",
          "name": "stdout",
          "text": [
            "142966 142966\n"
          ]
        }
      ]
    },
    {
      "cell_type": "code",
      "source": [
        "df_combined.head()"
      ],
      "metadata": {
        "colab": {
          "base_uri": "https://localhost:8080/",
          "height": 643
        },
        "id": "6gz0_2Ez2HKv",
        "outputId": "1fbcb258-9db2-40c0-faf2-a565a5dc3b17"
      },
      "execution_count": null,
      "outputs": [
        {
          "output_type": "execute_result",
          "data": {
            "text/plain": [
              "                       image  height  width  word2id_len  bin_len  \\\n",
              "0  23be72ded29e9b4_basic.png      78    738          112      151   \n",
              "1  8c904c5d9c7bd63_basic.png      94    962          129      151   \n",
              "2  1f111caa1be3516_basic.png      87    291           51       56   \n",
              "3  7483d06c1e14dcb_basic.png      60    521           61       65   \n",
              "4  1d7098797009973_basic.png      80    817          114      151   \n",
              "\n",
              "                                             word2id  \\\n",
              "0  [163, 305, 334, 11, 145, 336, 304, 334, 162, 3...   \n",
              "1  [311, 326, 304, 334, 17, 336, 28, 6, 16, 11, 3...   \n",
              "2  [296, 151, 305, 334, 195, 334, 315, 322, 323, ...   \n",
              "3  [48, 305, 334, 326, 327, 307, 327, 336, 28, 17...   \n",
              "4  [334, 150, 334, 224, 304, 334, 227, 227, 336, ...   \n",
              "\n",
              "                                         latex_ascii  \\\n",
              "0  \\int _ { - \\epsilon } ^ { \\infty } d l \\: \\mat...   \n",
              "1  d s ^ { 2 } = ( 1 - { \\frac { q c o s \\theta }...   \n",
              "2  \\widetilde \\gamma _ { \\mathrm { h o p f } } \\s...   \n",
              "3  S _ { s t a t } = 2 \\pi \\sqrt { N _ { 5 } ^ { ...   \n",
              "4  { \\frac { \\phi ^ { \\prime \\prime } } { A } } +...   \n",
              "\n",
              "                                          padded_seq  padded_seq_len  seq_len  \\\n",
              "0  [163, 305, 334, 11, 145, 336, 304, 334, 162, 3...             151      113   \n",
              "1  [311, 326, 304, 334, 17, 336, 28, 6, 16, 11, 3...             151      130   \n",
              "2  [296, 151, 305, 334, 195, 334, 315, 322, 323, ...              56       52   \n",
              "3  [48, 305, 334, 326, 327, 307, 327, 336, 28, 17...              65       62   \n",
              "4  [334, 150, 334, 224, 304, 334, 227, 227, 336, ...             151      115   \n",
              "\n",
              "   squashed_len                                       squashed_seq  \n",
              "0           113  [163, 305, 334, 11, 145, 336, 304, 334, 162, 3...  \n",
              "1           130  [311, 326, 304, 334, 17, 336, 28, 6, 16, 11, 3...  \n",
              "2            52  [296, 151, 305, 334, 195, 334, 315, 322, 323, ...  \n",
              "3            62  [48, 305, 334, 326, 327, 307, 327, 336, 28, 17...  \n",
              "4           115  [334, 150, 334, 224, 304, 334, 227, 227, 336, ...  "
            ],
            "text/html": [
              "\n",
              "  <div id=\"df-2e6a7b4e-0395-48e5-8bac-b175746335bc\" class=\"colab-df-container\">\n",
              "    <div>\n",
              "<style scoped>\n",
              "    .dataframe tbody tr th:only-of-type {\n",
              "        vertical-align: middle;\n",
              "    }\n",
              "\n",
              "    .dataframe tbody tr th {\n",
              "        vertical-align: top;\n",
              "    }\n",
              "\n",
              "    .dataframe thead th {\n",
              "        text-align: right;\n",
              "    }\n",
              "</style>\n",
              "<table border=\"1\" class=\"dataframe\">\n",
              "  <thead>\n",
              "    <tr style=\"text-align: right;\">\n",
              "      <th></th>\n",
              "      <th>image</th>\n",
              "      <th>height</th>\n",
              "      <th>width</th>\n",
              "      <th>word2id_len</th>\n",
              "      <th>bin_len</th>\n",
              "      <th>word2id</th>\n",
              "      <th>latex_ascii</th>\n",
              "      <th>padded_seq</th>\n",
              "      <th>padded_seq_len</th>\n",
              "      <th>seq_len</th>\n",
              "      <th>squashed_len</th>\n",
              "      <th>squashed_seq</th>\n",
              "    </tr>\n",
              "  </thead>\n",
              "  <tbody>\n",
              "    <tr>\n",
              "      <th>0</th>\n",
              "      <td>23be72ded29e9b4_basic.png</td>\n",
              "      <td>78</td>\n",
              "      <td>738</td>\n",
              "      <td>112</td>\n",
              "      <td>151</td>\n",
              "      <td>[163, 305, 334, 11, 145, 336, 304, 334, 162, 3...</td>\n",
              "      <td>\\int _ { - \\epsilon } ^ { \\infty } d l \\: \\mat...</td>\n",
              "      <td>[163, 305, 334, 11, 145, 336, 304, 334, 162, 3...</td>\n",
              "      <td>151</td>\n",
              "      <td>113</td>\n",
              "      <td>113</td>\n",
              "      <td>[163, 305, 334, 11, 145, 336, 304, 334, 162, 3...</td>\n",
              "    </tr>\n",
              "    <tr>\n",
              "      <th>1</th>\n",
              "      <td>8c904c5d9c7bd63_basic.png</td>\n",
              "      <td>94</td>\n",
              "      <td>962</td>\n",
              "      <td>129</td>\n",
              "      <td>151</td>\n",
              "      <td>[311, 326, 304, 334, 17, 336, 28, 6, 16, 11, 3...</td>\n",
              "      <td>d s ^ { 2 } = ( 1 - { \\frac { q c o s \\theta }...</td>\n",
              "      <td>[311, 326, 304, 334, 17, 336, 28, 6, 16, 11, 3...</td>\n",
              "      <td>151</td>\n",
              "      <td>130</td>\n",
              "      <td>130</td>\n",
              "      <td>[311, 326, 304, 334, 17, 336, 28, 6, 16, 11, 3...</td>\n",
              "    </tr>\n",
              "    <tr>\n",
              "      <th>2</th>\n",
              "      <td>1f111caa1be3516_basic.png</td>\n",
              "      <td>87</td>\n",
              "      <td>291</td>\n",
              "      <td>51</td>\n",
              "      <td>56</td>\n",
              "      <td>[296, 151, 305, 334, 195, 334, 315, 322, 323, ...</td>\n",
              "      <td>\\widetilde \\gamma _ { \\mathrm { h o p f } } \\s...</td>\n",
              "      <td>[296, 151, 305, 334, 195, 334, 315, 322, 323, ...</td>\n",
              "      <td>56</td>\n",
              "      <td>52</td>\n",
              "      <td>52</td>\n",
              "      <td>[296, 151, 305, 334, 195, 334, 315, 322, 323, ...</td>\n",
              "    </tr>\n",
              "    <tr>\n",
              "      <th>3</th>\n",
              "      <td>7483d06c1e14dcb_basic.png</td>\n",
              "      <td>60</td>\n",
              "      <td>521</td>\n",
              "      <td>61</td>\n",
              "      <td>65</td>\n",
              "      <td>[48, 305, 334, 326, 327, 307, 327, 336, 28, 17...</td>\n",
              "      <td>S _ { s t a t } = 2 \\pi \\sqrt { N _ { 5 } ^ { ...</td>\n",
              "      <td>[48, 305, 334, 326, 327, 307, 327, 336, 28, 17...</td>\n",
              "      <td>65</td>\n",
              "      <td>62</td>\n",
              "      <td>62</td>\n",
              "      <td>[48, 305, 334, 326, 327, 307, 327, 336, 28, 17...</td>\n",
              "    </tr>\n",
              "    <tr>\n",
              "      <th>4</th>\n",
              "      <td>1d7098797009973_basic.png</td>\n",
              "      <td>80</td>\n",
              "      <td>817</td>\n",
              "      <td>114</td>\n",
              "      <td>151</td>\n",
              "      <td>[334, 150, 334, 224, 304, 334, 227, 227, 336, ...</td>\n",
              "      <td>{ \\frac { \\phi ^ { \\prime \\prime } } { A } } +...</td>\n",
              "      <td>[334, 150, 334, 224, 304, 334, 227, 227, 336, ...</td>\n",
              "      <td>151</td>\n",
              "      <td>115</td>\n",
              "      <td>115</td>\n",
              "      <td>[334, 150, 334, 224, 304, 334, 227, 227, 336, ...</td>\n",
              "    </tr>\n",
              "  </tbody>\n",
              "</table>\n",
              "</div>\n",
              "    <div class=\"colab-df-buttons\">\n",
              "\n",
              "  <div class=\"colab-df-container\">\n",
              "    <button class=\"colab-df-convert\" onclick=\"convertToInteractive('df-2e6a7b4e-0395-48e5-8bac-b175746335bc')\"\n",
              "            title=\"Convert this dataframe to an interactive table.\"\n",
              "            style=\"display:none;\">\n",
              "\n",
              "  <svg xmlns=\"http://www.w3.org/2000/svg\" height=\"24px\" viewBox=\"0 -960 960 960\">\n",
              "    <path d=\"M120-120v-720h720v720H120Zm60-500h600v-160H180v160Zm220 220h160v-160H400v160Zm0 220h160v-160H400v160ZM180-400h160v-160H180v160Zm440 0h160v-160H620v160ZM180-180h160v-160H180v160Zm440 0h160v-160H620v160Z\"/>\n",
              "  </svg>\n",
              "    </button>\n",
              "\n",
              "  <style>\n",
              "    .colab-df-container {\n",
              "      display:flex;\n",
              "      gap: 12px;\n",
              "    }\n",
              "\n",
              "    .colab-df-convert {\n",
              "      background-color: #E8F0FE;\n",
              "      border: none;\n",
              "      border-radius: 50%;\n",
              "      cursor: pointer;\n",
              "      display: none;\n",
              "      fill: #1967D2;\n",
              "      height: 32px;\n",
              "      padding: 0 0 0 0;\n",
              "      width: 32px;\n",
              "    }\n",
              "\n",
              "    .colab-df-convert:hover {\n",
              "      background-color: #E2EBFA;\n",
              "      box-shadow: 0px 1px 2px rgba(60, 64, 67, 0.3), 0px 1px 3px 1px rgba(60, 64, 67, 0.15);\n",
              "      fill: #174EA6;\n",
              "    }\n",
              "\n",
              "    .colab-df-buttons div {\n",
              "      margin-bottom: 4px;\n",
              "    }\n",
              "\n",
              "    [theme=dark] .colab-df-convert {\n",
              "      background-color: #3B4455;\n",
              "      fill: #D2E3FC;\n",
              "    }\n",
              "\n",
              "    [theme=dark] .colab-df-convert:hover {\n",
              "      background-color: #434B5C;\n",
              "      box-shadow: 0px 1px 3px 1px rgba(0, 0, 0, 0.15);\n",
              "      filter: drop-shadow(0px 1px 2px rgba(0, 0, 0, 0.3));\n",
              "      fill: #FFFFFF;\n",
              "    }\n",
              "  </style>\n",
              "\n",
              "    <script>\n",
              "      const buttonEl =\n",
              "        document.querySelector('#df-2e6a7b4e-0395-48e5-8bac-b175746335bc button.colab-df-convert');\n",
              "      buttonEl.style.display =\n",
              "        google.colab.kernel.accessAllowed ? 'block' : 'none';\n",
              "\n",
              "      async function convertToInteractive(key) {\n",
              "        const element = document.querySelector('#df-2e6a7b4e-0395-48e5-8bac-b175746335bc');\n",
              "        const dataTable =\n",
              "          await google.colab.kernel.invokeFunction('convertToInteractive',\n",
              "                                                    [key], {});\n",
              "        if (!dataTable) return;\n",
              "\n",
              "        const docLinkHtml = 'Like what you see? Visit the ' +\n",
              "          '<a target=\"_blank\" href=https://colab.research.google.com/notebooks/data_table.ipynb>data table notebook</a>'\n",
              "          + ' to learn more about interactive tables.';\n",
              "        element.innerHTML = '';\n",
              "        dataTable['output_type'] = 'display_data';\n",
              "        await google.colab.output.renderOutput(dataTable, element);\n",
              "        const docLink = document.createElement('div');\n",
              "        docLink.innerHTML = docLinkHtml;\n",
              "        element.appendChild(docLink);\n",
              "      }\n",
              "    </script>\n",
              "  </div>\n",
              "\n",
              "\n",
              "<div id=\"df-eef33d98-2d80-4e4a-be42-d61617298687\">\n",
              "  <button class=\"colab-df-quickchart\" onclick=\"quickchart('df-eef33d98-2d80-4e4a-be42-d61617298687')\"\n",
              "            title=\"Suggest charts\"\n",
              "            style=\"display:none;\">\n",
              "\n",
              "<svg xmlns=\"http://www.w3.org/2000/svg\" height=\"24px\"viewBox=\"0 0 24 24\"\n",
              "     width=\"24px\">\n",
              "    <g>\n",
              "        <path d=\"M19 3H5c-1.1 0-2 .9-2 2v14c0 1.1.9 2 2 2h14c1.1 0 2-.9 2-2V5c0-1.1-.9-2-2-2zM9 17H7v-7h2v7zm4 0h-2V7h2v10zm4 0h-2v-4h2v4z\"/>\n",
              "    </g>\n",
              "</svg>\n",
              "  </button>\n",
              "\n",
              "<style>\n",
              "  .colab-df-quickchart {\n",
              "      --bg-color: #E8F0FE;\n",
              "      --fill-color: #1967D2;\n",
              "      --hover-bg-color: #E2EBFA;\n",
              "      --hover-fill-color: #174EA6;\n",
              "      --disabled-fill-color: #AAA;\n",
              "      --disabled-bg-color: #DDD;\n",
              "  }\n",
              "\n",
              "  [theme=dark] .colab-df-quickchart {\n",
              "      --bg-color: #3B4455;\n",
              "      --fill-color: #D2E3FC;\n",
              "      --hover-bg-color: #434B5C;\n",
              "      --hover-fill-color: #FFFFFF;\n",
              "      --disabled-bg-color: #3B4455;\n",
              "      --disabled-fill-color: #666;\n",
              "  }\n",
              "\n",
              "  .colab-df-quickchart {\n",
              "    background-color: var(--bg-color);\n",
              "    border: none;\n",
              "    border-radius: 50%;\n",
              "    cursor: pointer;\n",
              "    display: none;\n",
              "    fill: var(--fill-color);\n",
              "    height: 32px;\n",
              "    padding: 0;\n",
              "    width: 32px;\n",
              "  }\n",
              "\n",
              "  .colab-df-quickchart:hover {\n",
              "    background-color: var(--hover-bg-color);\n",
              "    box-shadow: 0 1px 2px rgba(60, 64, 67, 0.3), 0 1px 3px 1px rgba(60, 64, 67, 0.15);\n",
              "    fill: var(--button-hover-fill-color);\n",
              "  }\n",
              "\n",
              "  .colab-df-quickchart-complete:disabled,\n",
              "  .colab-df-quickchart-complete:disabled:hover {\n",
              "    background-color: var(--disabled-bg-color);\n",
              "    fill: var(--disabled-fill-color);\n",
              "    box-shadow: none;\n",
              "  }\n",
              "\n",
              "  .colab-df-spinner {\n",
              "    border: 2px solid var(--fill-color);\n",
              "    border-color: transparent;\n",
              "    border-bottom-color: var(--fill-color);\n",
              "    animation:\n",
              "      spin 1s steps(1) infinite;\n",
              "  }\n",
              "\n",
              "  @keyframes spin {\n",
              "    0% {\n",
              "      border-color: transparent;\n",
              "      border-bottom-color: var(--fill-color);\n",
              "      border-left-color: var(--fill-color);\n",
              "    }\n",
              "    20% {\n",
              "      border-color: transparent;\n",
              "      border-left-color: var(--fill-color);\n",
              "      border-top-color: var(--fill-color);\n",
              "    }\n",
              "    30% {\n",
              "      border-color: transparent;\n",
              "      border-left-color: var(--fill-color);\n",
              "      border-top-color: var(--fill-color);\n",
              "      border-right-color: var(--fill-color);\n",
              "    }\n",
              "    40% {\n",
              "      border-color: transparent;\n",
              "      border-right-color: var(--fill-color);\n",
              "      border-top-color: var(--fill-color);\n",
              "    }\n",
              "    60% {\n",
              "      border-color: transparent;\n",
              "      border-right-color: var(--fill-color);\n",
              "    }\n",
              "    80% {\n",
              "      border-color: transparent;\n",
              "      border-right-color: var(--fill-color);\n",
              "      border-bottom-color: var(--fill-color);\n",
              "    }\n",
              "    90% {\n",
              "      border-color: transparent;\n",
              "      border-bottom-color: var(--fill-color);\n",
              "    }\n",
              "  }\n",
              "</style>\n",
              "\n",
              "  <script>\n",
              "    async function quickchart(key) {\n",
              "      const quickchartButtonEl =\n",
              "        document.querySelector('#' + key + ' button');\n",
              "      quickchartButtonEl.disabled = true;  // To prevent multiple clicks.\n",
              "      quickchartButtonEl.classList.add('colab-df-spinner');\n",
              "      try {\n",
              "        const charts = await google.colab.kernel.invokeFunction(\n",
              "            'suggestCharts', [key], {});\n",
              "      } catch (error) {\n",
              "        console.error('Error during call to suggestCharts:', error);\n",
              "      }\n",
              "      quickchartButtonEl.classList.remove('colab-df-spinner');\n",
              "      quickchartButtonEl.classList.add('colab-df-quickchart-complete');\n",
              "    }\n",
              "    (() => {\n",
              "      let quickchartButtonEl =\n",
              "        document.querySelector('#df-eef33d98-2d80-4e4a-be42-d61617298687 button');\n",
              "      quickchartButtonEl.style.display =\n",
              "        google.colab.kernel.accessAllowed ? 'block' : 'none';\n",
              "    })();\n",
              "  </script>\n",
              "</div>\n",
              "\n",
              "    </div>\n",
              "  </div>\n"
            ],
            "application/vnd.google.colaboratory.intrinsic+json": {
              "type": "dataframe",
              "variable_name": "df_combined"
            }
          },
          "metadata": {},
          "execution_count": 24
        }
      ]
    },
    {
      "cell_type": "code",
      "source": [
        "y_combined['5be77b312bfa0c1_basic.png']"
      ],
      "metadata": {
        "colab": {
          "base_uri": "https://localhost:8080/",
          "height": 64
        },
        "id": "Frt88q9k3fQL",
        "outputId": "07be8247-1189-421c-bec8-0798c49e14da"
      },
      "execution_count": null,
      "outputs": [
        {
          "output_type": "execute_result",
          "data": {
            "text/plain": [
              "<PIL.PngImagePlugin.PngImageFile image mode=P size=1053x79>"
            ],
            "image/png": "[encoded data removed]"
          },
          "metadata": {},
          "execution_count": 31
        }
      ]
    },
    {
      "cell_type": "code",
      "source": [
        "def calculate_image_statistics(df_combined, y_combined):\n",
        "      sizes = [(image.size[0], image.size[1]) for image in y_combined.values()]\n",
        "      widths = [size[0] for size in sizes]\n",
        "      heights = [size[1] for size in sizes]\n",
        "\n",
        "      stats = {\n",
        "          'min_width': np.min(widths),\n",
        "          'max_width': np.max(widths),\n",
        "          'mean_width': np.mean(widths),\n",
        "          'std_width': np.std(widths),\n",
        "          'min_height': np.min(heights),\n",
        "          'max_height': np.max(heights),\n",
        "          'mean_height': np.mean(heights),\n",
        "          'std_height': np.std(heights),\n",
        "      }\n",
        "\n",
        "      return stats\n",
        "\n",
        "stats = calculate_image_statistics(df_combined, y_combined)\n",
        "print(stats)"
      ],
      "metadata": {
        "id": "lPbrWuZr3iSU"
      },
      "execution_count": null,
      "outputs": []
    },
    {
      "cell_type": "code",
      "source": [
        "def calculate_formula_statistics(df_combined):\n",
        "      formula_lengths = df_combined['latex_ascii'].apply(len)\n",
        "\n",
        "      stats = {\n",
        "          'min_length': np.min(formula_lengths),\n",
        "          'max_length': np.max(formula_lengths),\n",
        "          'mean_length': np.mean(formula_lengths),\n",
        "          'std_length': np.std(formula_lengths),\n",
        "      }\n",
        "\n",
        "      return stats\n",
        "\n",
        "stats = calculate_formula_statistics(df_combined)\n",
        "print(stats)"
      ],
      "metadata": {
        "id": "Rix6lp6Z4omQ"
      },
      "execution_count": null,
      "outputs": []
    },
    {
      "cell_type": "code",
      "source": [
        "def calculate_multilined_percentage(df_combined):\n",
        "        multilined_check = df_combined['latex_ascii'].str.contains(r'\\\\\\\\|\\begin{align}|\\begin{equation}|\\begin{multiline}')\n",
        "        multilined_percentage = (multilined_check.sum() / len(df_combined)) * 100\n",
        "\n",
        "        return multilined_percentage\n",
        "\n",
        "stats = calculate_multilined_percentage(df_combined)\n",
        "print(stats)"
      ],
      "metadata": {
        "colab": {
          "base_uri": "https://localhost:8080/"
        },
        "id": "YH17ZjFn5N6x",
        "outputId": "4843bf2c-0f9c-489d-8afa-4f042e67a3dd"
      },
      "execution_count": null,
      "outputs": [
        {
          "output_type": "stream",
          "name": "stdout",
          "text": [
            "3.932403508526503\n"
          ]
        }
      ]
    },
    {
      "cell_type": "code",
      "source": [
        "def count_latex_symbols(df):\n",
        "\n",
        "    patterns = {\n",
        "        'integral': r'\\\\int',\n",
        "        'infinity': r'\\\\infty',\n",
        "        'sum': r'\\\\sum',\n",
        "        'product': r'\\\\prod',\n",
        "        'square root': r'\\\\sqrt',\n",
        "        'factorial': r'\\\\!',\n",
        "        'open_arrow': r'\\\\rightarrow',\n",
        "        'close_arrow': r'\\\\leftarrow',\n",
        "        'fraction': r'\\\\frac',\n",
        "        'summation': r'\\\\sum',\n",
        "        'product': r'\\\\prod',\n",
        "        'equivalent': r'\\\\equiv',\n",
        "        'combinations': r'\\\\binom',\n",
        "    }\n",
        "\n",
        "    symbol_counter = {key: 0 for key in patterns.keys()}\n",
        "\n",
        "    for entry in df['latex_ascii']:\n",
        "        for key, pattern in patterns.items():\n",
        "            matches = re.findall(pattern, entry, flags=re.DOTALL)\n",
        "            symbol_counter[key] += len(matches)\n",
        "\n",
        "    return symbol_counter\n",
        "\n",
        "\n",
        "count_latex_symbols(df_combined)"
      ],
      "metadata": {
        "colab": {
          "base_uri": "https://localhost:8080/"
        },
        "id": "G0oTSoBE6g4E",
        "outputId": "26eb718c-92ac-4410-fb53-820506485ee0"
      },
      "execution_count": null,
      "outputs": [
        {
          "output_type": "execute_result",
          "data": {
            "text/plain": [
              "{'integral': 22044,\n",
              " 'infinity': 9141,\n",
              " 'sum': 15451,\n",
              " 'product': 2102,\n",
              " 'square root': 17331,\n",
              " 'factorial': 6436,\n",
              " 'open_arrow': 6059,\n",
              " 'close_arrow': 66,\n",
              " 'fraction': 135124,\n",
              " 'summation': 15451,\n",
              " 'equivalent': 6706,\n",
              " 'combinations': 229}"
            ]
          },
          "metadata": {},
          "execution_count": 46
        }
      ]
    },
    {
      "cell_type": "code",
      "source": [
        "df_combined.iloc[0]['latex_ascii']"
      ],
      "metadata": {
        "colab": {
          "base_uri": "https://localhost:8080/",
          "height": 107
        },
        "id": "b21oWWNr86SY",
        "outputId": "4fafb215-823f-428b-a3c7-dcad687d1bc9"
      },
      "execution_count": null,
      "outputs": [
        {
          "output_type": "execute_result",
          "data": {
            "text/plain": [
              "'\\\\int _ { - \\\\epsilon } ^ { \\\\infty } d l \\\\: \\\\mathrm { e } ^ { - l \\\\zeta } \\\\int _ { - \\\\epsilon } ^ { \\\\infty } d l ^ { \\\\prime } \\\\mathrm { e } ^ { - l ^ { \\\\prime } \\\\zeta } l l ^ { \\\\prime } { \\\\frac { l ^ { \\\\prime } - l } { l + l ^ { \\\\prime } } } \\\\{ 3 \\\\, \\\\delta ^ { \\\\prime \\\\prime } ( l ) - { \\\\frac { 3 } { 4 } } t \\\\, \\\\delta ( l ) \\\\} = 0 .'"
            ],
            "application/vnd.google.colaboratory.intrinsic+json": {
              "type": "string"
            }
          },
          "metadata": {},
          "execution_count": 56
        }
      ]
    },
    {
      "cell_type": "code",
      "source": [
        "y_combined['23be72ded29e9b4_basic.png']"
      ],
      "metadata": {
        "colab": {
          "base_uri": "https://localhost:8080/",
          "height": 83
        },
        "id": "HkvOP-Ki_3gv",
        "outputId": "9367562d-0795-4cc3-a302-8a8edb128bad"
      },
      "execution_count": null,
      "outputs": [
        {
          "output_type": "execute_result",
          "data": {
            "text/plain": [
              "<PIL.PngImagePlugin.PngImageFile image mode=L size=738x78>"
            ],
            "image/png": "[encoded data removed]"
          },
          "metadata": {},
          "execution_count": 55
        }
      ]
    },
    {
      "cell_type": "code",
      "source": [
        "from PIL import Image, ImageDraw, ImageFont\n",
        "\n",
        "def create_text_image(text_lines, font_size, color, image_path):\n",
        "    # Load the default font\n",
        "    font = ImageFont.load_default()\n",
        "\n",
        "    # Calculate image size based on the number of lines and font size\n",
        "    line_height = font_size * 2  # Space for each line\n",
        "    image_width = 600  # Fixed width suitable for viewing\n",
        "    image_height = 150  # Height based on the number of lines\n",
        "\n",
        "    # Create a new blank image with white background\n",
        "    image = Image.new('RGB', (image_width, image_height), \"white\")\n",
        "\n",
        "    # Initialize the drawing context\n",
        "    draw = ImageDraw.Draw(image)\n",
        "\n",
        "    # Draw each line of text\n",
        "    y = 5  # Start a little from the top\n",
        "    for line in text_lines:\n",
        "        text_width, text_height = draw.textsize(line, font=font)\n",
        "        x = (image.width - text_width) / 2  # Center each line\n",
        "        draw.text((x, y), line, font=font, fill=color)\n",
        "        y += line_height  # Move to the next line\n",
        "\n",
        "    # Save the image to a file\n",
        "    image.save(image_path)\n",
        "\n",
        "# Split the long LaTeX string into multiple lines\n",
        "text_lines = [\n",
        "    r\"\\[ \\int_{-\\epsilon}^{\\infty} dl \\: \\mathrm{e}^{-l\\zeta}\\int_{-\\epsilon}\",\n",
        "    r\"\\mathrm{e}^{-l^{\\prime}\\zeta} ll^{\\prime}^{\\infty} dl^{\\prime}\",\n",
        "    r\"\\left\\{ \\frac{l^{\\prime} - l}{l + l^{\\prime}} \\right\\}\\left\",\n",
        "    r\"\\{3 \\, \\delta^{\\prime\\prime}(l) - \\frac{3}{4} t \\, \\delta(l)\\right\\} = 0 . \\]\"\n",
        "]\n",
        "font_size = 20  # Adjust as needed for text fit\n",
        "color = \"black\"\n",
        "image_path = \"latex_writing.png\"\n",
        "\n",
        "create_text_image(text_lines, font_size, color, image_path)\n"
      ],
      "metadata": {
        "colab": {
          "base_uri": "https://localhost:8080/"
        },
        "id": "JxKoKfiGCdy9",
        "outputId": "f6eb1b48-1a6c-47f4-adac-c3223e010c49"
      },
      "execution_count": null,
      "outputs": [
        {
          "output_type": "stream",
          "name": "stderr",
          "text": [
            "<ipython-input-69-d6710502dde4>:21: DeprecationWarning: textsize is deprecated and will be removed in Pillow 10 (2023-07-01). Use textbbox or textlength instead.\n",
            "  text_width, text_height = draw.textsize(line, font=font)\n",
            "<ipython-input-69-d6710502dde4>:21: DeprecationWarning: textsize is deprecated and will be removed in Pillow 10 (2023-07-01). Use textbbox or textlength instead.\n",
            "  text_width, text_height = draw.textsize(line, font=font)\n",
            "<ipython-input-69-d6710502dde4>:21: DeprecationWarning: textsize is deprecated and will be removed in Pillow 10 (2023-07-01). Use textbbox or textlength instead.\n",
            "  text_width, text_height = draw.textsize(line, font=font)\n",
            "<ipython-input-69-d6710502dde4>:21: DeprecationWarning: textsize is deprecated and will be removed in Pillow 10 (2023-07-01). Use textbbox or textlength instead.\n",
            "  text_width, text_height = draw.textsize(line, font=font)\n"
          ]
        }
      ]
    },
    {
      "cell_type": "code",
      "source": [
        "!ls"
      ],
      "metadata": {
        "colab": {
          "base_uri": "https://localhost:8080/"
        },
        "id": "K43bycb6ELEr",
        "outputId": "fc3ca975-c5aa-431f-88c0-294f6243a4d2"
      },
      "execution_count": null,
      "outputs": [
        {
          "output_type": "stream",
          "name": "stdout",
          "text": [
            "data  get_data.sh  output_text_image.png  sample_data\n"
          ]
        }
      ]
    },
    {
      "cell_type": "code",
      "source": [],
      "metadata": {
        "id": "KLQhh9MSEgZv"
      },
      "execution_count": null,
      "outputs": []
    }
  ]
}